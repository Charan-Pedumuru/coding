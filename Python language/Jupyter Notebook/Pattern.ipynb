{
 "cells": [
  {
   "cell_type": "code",
   "execution_count": 1,
   "metadata": {},
   "outputs": [
    {
     "name": "stdout",
     "output_type": "stream",
     "text": [
      "* * * * \n",
      "* * * \n",
      "* * \n",
      "* \n",
      "\n",
      "* * * * \n",
      "* * * \n",
      "* * \n",
      "* \n"
     ]
    }
   ],
   "source": [
    "# Decreasing left sided triangle\n",
    "\n",
    "n=int(input(\"Enter the size: \"))\n",
    "for i in range(n):\n",
    "    for j in range(i,n):\n",
    "        print('* ',end='')\n",
    "    print()\n",
    "print()\n",
    "i=1\n",
    "while i<=n:\n",
    "    j=i\n",
    "    while j<=n:\n",
    "        print('* ',end='')\n",
    "        j+=1\n",
    "    print()\n",
    "    i+=1"
   ]
  },
  {
   "cell_type": "code",
   "execution_count": null,
   "metadata": {},
   "outputs": [],
   "source": []
  }
 ],
 "metadata": {
  "kernelspec": {
   "display_name": "Python 3.11.0 64-bit",
   "language": "python",
   "name": "python3"
  },
  "language_info": {
   "codemirror_mode": {
    "name": "ipython",
    "version": 3
   },
   "file_extension": ".py",
   "mimetype": "text/x-python",
   "name": "python",
   "nbconvert_exporter": "python",
   "pygments_lexer": "ipython3",
   "version": "3.11.0"
  },
  "orig_nbformat": 4,
  "vscode": {
   "interpreter": {
    "hash": "5be4cf258dcb907ac45d1d278d4fee71be90d70df4e7e0d3bb7592e18519ca91"
   }
  }
 },
 "nbformat": 4,
 "nbformat_minor": 2
}
