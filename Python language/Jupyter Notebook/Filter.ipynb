{
 "cells": [
  {
   "cell_type": "code",
   "execution_count": 1,
   "metadata": {},
   "outputs": [
    {
     "name": "stdout",
     "output_type": "stream",
     "text": [
      "The prime numbers are  [3, 5, 7, 9]\n",
      "The filtered letters are:\n",
      "e\n",
      "e\n"
     ]
    }
   ],
   "source": [
    "def prime(a):\n",
    "    for i in range(2,a):\n",
    "        if a==0:\n",
    "            return print('Incorrect input')\n",
    "        elif a%i!=0:\n",
    "            return True\n",
    "        else:\n",
    "            return False\n",
    "\n",
    "f=filter(prime,range(10)) # Filters give multiple inputs to the function with range and it is further stores the returned values in a list 'f' \n",
    "# The true returned values are stored in the filter\n",
    "print(\"The prime numbers are \",list(f))\n",
    "\n",
    "# Filter require a function and a sequence or list and it's for boolean type\n",
    "\n",
    "\n",
    "\n",
    "def fun(variable):\n",
    "    letters = ['a', 'e', 'i', 'o', 'u'] \n",
    "    if (variable in letters): \n",
    "        return True \n",
    "    else: \n",
    "        return False \n",
    "        \n",
    "sequence = ['g', 'e', 'e', 'j', 'k', 's', 'p', 'r'] \n",
    "filtered = filter(fun, sequence) \n",
    "print('The filtered letters are:') \n",
    "for s in filtered: \n",
    "    print(s)"
   ]
  },
  {
   "cell_type": "code",
   "execution_count": null,
   "metadata": {},
   "outputs": [],
   "source": []
  }
 ],
 "metadata": {
  "kernelspec": {
   "display_name": "Python 3.11.0 64-bit",
   "language": "python",
   "name": "python3"
  },
  "language_info": {
   "codemirror_mode": {
    "name": "ipython",
    "version": 3
   },
   "file_extension": ".py",
   "mimetype": "text/x-python",
   "name": "python",
   "nbconvert_exporter": "python",
   "pygments_lexer": "ipython3",
   "version": "3.11.4"
  },
  "orig_nbformat": 4,
  "vscode": {
   "interpreter": {
    "hash": "5be4cf258dcb907ac45d1d278d4fee71be90d70df4e7e0d3bb7592e18519ca91"
   }
  }
 },
 "nbformat": 4,
 "nbformat_minor": 2
}
