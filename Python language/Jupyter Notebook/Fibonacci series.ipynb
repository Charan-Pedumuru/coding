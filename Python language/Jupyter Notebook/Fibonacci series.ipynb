{
 "cells": [
  {
   "cell_type": "code",
   "execution_count": null,
   "metadata": {},
   "outputs": [],
   "source": [
    "n=int(input('Enter a number : '))\n",
    "a,b,count=0,1,0 \n",
    "  \n",
    "if n<=0: print (\"Not valid\")  \n",
    "\n",
    "elif n==1: print(a) \n",
    "\n",
    "else:  \n",
    "    print (\"The fibonacci sequence of the numbers is:\")  \n",
    "    while count<n:  \n",
    "        print(a)  \n",
    "        nth=a+b   \n",
    "        a=b  \n",
    "        b=nth  \n",
    "        count+=1  "
   ]
  }
 ],
 "metadata": {
  "kernelspec": {
   "display_name": "Python 3",
   "language": "python",
   "name": "python3"
  },
  "language_info": {
   "codemirror_mode": {
    "name": "ipython",
    "version": 3
   },
   "file_extension": ".py",
   "mimetype": "text/x-python",
   "name": "python",
   "nbconvert_exporter": "python",
   "pygments_lexer": "ipython3",
   "version": "3.12.8"
  },
  "orig_nbformat": 4
 },
 "nbformat": 4,
 "nbformat_minor": 2
}
