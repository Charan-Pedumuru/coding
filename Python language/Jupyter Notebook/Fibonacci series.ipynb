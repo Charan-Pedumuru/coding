{
 "cells": [
  {
   "cell_type": "code",
   "execution_count": 1,
   "metadata": {},
   "outputs": [
    {
     "name": "stdout",
     "output_type": "stream",
     "text": [
      "The fibonacci sequence of the numbers is:\n",
      "0\n",
      "1\n",
      "1\n"
     ]
    }
   ],
   "source": [
    "n=int(input('Enter a number : '))\n",
    "a,b,count=0,1,0 \n",
    "  \n",
    "if n<=0: print (\"Not valid\")  \n",
    "\n",
    "elif n==1: print(a) \n",
    "\n",
    "else:  \n",
    "    print (\"The fibonacci sequence of the numbers is:\")  \n",
    "    while count<n:  \n",
    "        print(a)  \n",
    "        nth=a+b   \n",
    "        a=b  \n",
    "        b=nth  \n",
    "        count+=1  "
   ]
  },
  {
   "cell_type": "code",
   "execution_count": null,
   "metadata": {},
   "outputs": [],
   "source": []
  },
  {
   "cell_type": "code",
   "execution_count": null,
   "metadata": {},
   "outputs": [],
   "source": []
  }
 ],
 "metadata": {
  "kernelspec": {
   "display_name": "Python 3.11.0 64-bit",
   "language": "python",
   "name": "python3"
  },
  "language_info": {
   "codemirror_mode": {
    "name": "ipython",
    "version": 3
   },
   "file_extension": ".py",
   "mimetype": "text/x-python",
   "name": "python",
   "nbconvert_exporter": "python",
   "pygments_lexer": "ipython3",
   "version": "3.11.1"
  },
  "orig_nbformat": 4,
  "vscode": {
   "interpreter": {
    "hash": "5be4cf258dcb907ac45d1d278d4fee71be90d70df4e7e0d3bb7592e18519ca91"
   }
  }
 },
 "nbformat": 4,
 "nbformat_minor": 2
}
